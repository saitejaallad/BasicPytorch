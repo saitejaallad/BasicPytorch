{
 "cells": [
  {
   "cell_type": "code",
   "execution_count": 1,
   "id": "02fcf750-1bb8-4813-a48b-2553befa43e7",
   "metadata": {},
   "outputs": [
    {
     "name": "stdout",
     "output_type": "stream",
     "text": [
      "tensor([1, 2, 3, 4])\n",
      "tensor([[1, 2],\n",
      "        [3, 4]])\n"
     ]
    }
   ],
   "source": [
    "import torch\n",
    "\n",
    "# Creating a 1D tensor\n",
    "x = torch.tensor([1, 2, 3, 4])\n",
    "print(x)\n",
    "\n",
    "# Creating a 2D tensor (matrix)\n",
    "y = torch.tensor([[1, 2], [3, 4]])\n",
    "print(y)\n"
   ]
  },
  {
   "cell_type": "code",
   "execution_count": 2,
   "id": "e267beeb-9b51-4214-af96-b8fd6d962bc8",
   "metadata": {},
   "outputs": [
    {
     "name": "stdout",
     "output_type": "stream",
     "text": [
      "torch.Size([4])\n",
      "torch.Size([2, 2])\n",
      "torch.int64\n"
     ]
    }
   ],
   "source": [
    "print(x.shape)  # Output: torch.Size([4])\n",
    "print(y.shape)  # Output: torch.Size([2, 2])\n",
    "print(x.dtype)  # Data type of the tensor\n"
   ]
  },
  {
   "cell_type": "code",
   "execution_count": 3,
   "id": "92510abb-a35c-4615-88b7-3dbb3e76ffe0",
   "metadata": {},
   "outputs": [
    {
     "name": "stdout",
     "output_type": "stream",
     "text": [
      "tensor([ 6,  8, 10])\n",
      "tensor([ 5, 12, 21])\n",
      "tensor(38)\n"
     ]
    }
   ],
   "source": [
    "a = torch.tensor([5, 6, 7])\n",
    "b = torch.tensor([1, 2, 3])\n",
    "\n",
    "# Addition\n",
    "print(a + b)\n",
    "\n",
    "# Multiplication\n",
    "print(a * b)\n",
    "\n",
    "# Dot Product\n",
    "print(torch.dot(a, b))\n"
   ]
  },
  {
   "cell_type": "code",
   "execution_count": 4,
   "id": "08055fb4-c26f-4b7f-8989-ab2c8ecf2328",
   "metadata": {},
   "outputs": [
    {
     "name": "stdout",
     "output_type": "stream",
     "text": [
      "False\n"
     ]
    }
   ],
   "source": [
    "import torch\n",
    "print(torch.cuda.is_available())  # Returns True if CUDA (GPU) is available\n"
   ]
  },
  {
   "cell_type": "code",
   "execution_count": 5,
   "id": "dbe791b1-010c-4158-8c74-75461cba7aaa",
   "metadata": {},
   "outputs": [
    {
     "name": "stdout",
     "output_type": "stream",
     "text": [
      "tensor([1., 2., 3.])\n"
     ]
    }
   ],
   "source": [
    "device = torch.device(\"cuda\" if torch.cuda.is_available() else \"cpu\")\n",
    "\n",
    "# Creating a tensor and moving it to GPU\n",
    "x = torch.tensor([1.0, 2.0, 3.0], device=device)\n",
    "print(x)\n"
   ]
  },
  {
   "cell_type": "code",
   "execution_count": 8,
   "id": "e4081d9e-07e0-482a-bf2d-c195cbbb2048",
   "metadata": {},
   "outputs": [
    {
     "name": "stdout",
     "output_type": "stream",
     "text": [
      "Conv2d(1, 16, kernel_size=(3, 3), stride=(1, 1))\n"
     ]
    }
   ],
   "source": [
    "import torch.nn as nn\n",
    "conv_layer = nn.Conv2d(in_channels=1, out_channels=16, kernel_size=3)\n",
    "print(conv_layer)\n"
   ]
  },
  {
   "cell_type": "code",
   "execution_count": 9,
   "id": "43e0472a-58f7-403c-bc29-8af8415ac775",
   "metadata": {},
   "outputs": [
    {
     "name": "stdout",
     "output_type": "stream",
     "text": [
      "Linear(in_features=3, out_features=2, bias=True)\n"
     ]
    }
   ],
   "source": [
    "import torch.nn as nn\n",
    "\n",
    "layer = nn.Linear(in_features=3, out_features=2)  # 3 input neurons → 2 output neurons\n",
    "print(layer)\n"
   ]
  },
  {
   "cell_type": "code",
   "execution_count": null,
   "id": "e6bcb5a4-b4ae-4409-a998-8a49246c4fca",
   "metadata": {},
   "outputs": [],
   "source": []
  }
 ],
 "metadata": {
  "kernelspec": {
   "display_name": "Python 3 (ipykernel)",
   "language": "python",
   "name": "python3"
  },
  "language_info": {
   "codemirror_mode": {
    "name": "ipython",
    "version": 3
   },
   "file_extension": ".py",
   "mimetype": "text/x-python",
   "name": "python",
   "nbconvert_exporter": "python",
   "pygments_lexer": "ipython3",
   "version": "3.10.0"
  }
 },
 "nbformat": 4,
 "nbformat_minor": 5
}
